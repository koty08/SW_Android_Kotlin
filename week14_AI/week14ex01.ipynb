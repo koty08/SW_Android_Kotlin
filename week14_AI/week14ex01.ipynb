{
 "cells": [
  {
   "cell_type": "code",
   "execution_count": 1,
   "metadata": {},
   "outputs": [],
   "source": [
    "from PIL import Image\n",
    "from tqdm import tqdm\n",
    "import binascii\n",
    "import glob\n",
    "import os\n",
    "\n",
    "import numpy as np\n",
    "\n",
    "import keras.preprocessing.image\n",
    "\n",
    "dataCnt = 0\n",
    "dataNum = 9000\n",
    "width = 100\n",
    "height = 100\n",
    "channels = 3\n",
    "dataset = np.zeros(shape=(dataNum, height, width, channels), dtype=np.float32)"
   ]
  },
  {
   "cell_type": "code",
   "execution_count": 2,
   "metadata": {},
   "outputs": [
    {
     "name": "stderr",
     "output_type": "stream",
     "text": [
      "100%|██████████| 388/388 [00:11<00:00, 32.95it/s]\n",
      "100%|██████████| 121/121 [00:03<00:00, 34.24it/s]\n",
      "100%|██████████| 472/472 [00:05<00:00, 83.02it/s]\n",
      "100%|██████████| 439/439 [00:10<00:00, 41.96it/s]\n",
      "100%|██████████| 31/31 [00:00<00:00, 39.60it/s]\n",
      "100%|██████████| 137/137 [00:03<00:00, 42.07it/s]\n",
      "100%|██████████| 323/323 [00:03<00:00, 84.15it/s] \n",
      "100%|██████████| 126/126 [00:07<00:00, 16.86it/s]\n",
      "100%|██████████| 112/112 [00:07<00:00, 15.95it/s]\n",
      "100%|██████████| 9/9 [00:53<00:00,  6.00s/it]"
     ]
    },
    {
     "name": "stdout",
     "output_type": "stream",
     "text": [
      "num of exceeded sol :  0\n",
      "num of total vul :  2149\n"
     ]
    },
    {
     "name": "stderr",
     "output_type": "stream",
     "text": [
      "\n"
     ]
    }
   ],
   "source": [
    "def main():\n",
    "    global dataCnt\n",
    "    malware_path = './bytes'\n",
    "    malware_categories = os.listdir(malware_path+'/')\n",
    "\n",
    "    dataCnt = 0\n",
    "    cnt = 0\n",
    "\n",
    "    for malware_family in tqdm(malware_categories):\n",
    "        malware_files = glob.glob(malware_path+'/'+malware_family+'/*.txt')\n",
    "        for malware_file in tqdm(malware_files):\n",
    "            if not malware_file:\n",
    "                continue\n",
    "            try:\n",
    "                f = open(malware_file, 'r')\n",
    "                code = f.readlines()\n",
    "                one_line = ''\n",
    "                for line in code:\n",
    "                    line = line.replace(\"+\", \"\")\n",
    "                    line = line.replace(\"\\n\", \"\")\n",
    "\n",
    "                    if len(line) != 2:\n",
    "                        print(str(len(line)) +\"### \" + line)\n",
    "                    one_line = one_line + line\n",
    "\n",
    "                BinarySrcCode = binascii.unhexlify(one_line)\n",
    "                code_len = len(BinarySrcCode)\n",
    "                padLen = width * height * 3 - code_len\n",
    "\n",
    "                if code_len == 0:\n",
    "                    continue\n",
    "                if padLen < 0:\n",
    "                    print('file is over')\n",
    "                    cnt += 1\n",
    "                    continue\n",
    "\n",
    "                zeroPad = bytes(padLen)\n",
    "                image = bytearray(BinarySrcCode) + bytes(zeroPad)\n",
    "                img = Image.frombytes(\"RGB\", (height, width), bytes(list(image)))\n",
    "                img.save(\"./malware_images/\"+ malware_family + \"/\" + malware_file[17:-4] + \".PNG\", 'PNG')\n",
    "                dataCnt += 1\n",
    "            except Exception as ex:\n",
    "                print(malware_file)\n",
    "                print(\"Dd\")\n",
    "                print(ex)\n",
    "                return\n",
    "\n",
    "    print(\"num of exceeded sol : \", cnt)\n",
    "    print(\"num of total vul : \", dataCnt)\n",
    "\n",
    "    return\n",
    "\n",
    "main()"
   ]
  },
  {
   "cell_type": "code",
   "execution_count": 4,
   "metadata": {},
   "outputs": [
    {
     "name": "stdout",
     "output_type": "stream",
     "text": [
      "Found 2149 images belonging to 9 classes.\n",
      "Found 426 images belonging to 9 classes.\n",
      "Epoch 1/10\n",
      "68/68 [==============================] - 24s 345ms/step - loss: 1.2995 - accuracy: 0.5361\n",
      "Epoch 2/10\n",
      "68/68 [==============================] - 22s 323ms/step - loss: 0.8720 - accuracy: 0.6864\n",
      "Epoch 3/10\n",
      "68/68 [==============================] - 22s 326ms/step - loss: 0.5655 - accuracy: 0.8148\n",
      "Epoch 4/10\n",
      "68/68 [==============================] - 22s 329ms/step - loss: 0.3954 - accuracy: 0.8683\n",
      "Epoch 5/10\n",
      "68/68 [==============================] - 22s 318ms/step - loss: 0.3234 - accuracy: 0.8944\n",
      "Epoch 6/10\n",
      "68/68 [==============================] - 23s 333ms/step - loss: 0.2157 - accuracy: 0.9325\n",
      "Epoch 7/10\n",
      "68/68 [==============================] - 24s 349ms/step - loss: 0.1586 - accuracy: 0.9544\n",
      "Epoch 8/10\n",
      "68/68 [==============================] - 22s 319ms/step - loss: 0.1149 - accuracy: 0.9679\n",
      "Epoch 9/10\n",
      "68/68 [==============================] - 24s 350ms/step - loss: 0.0887 - accuracy: 0.9702\n",
      "Epoch 10/10\n",
      "68/68 [==============================] - 21s 315ms/step - loss: 0.0878 - accuracy: 0.9721\n",
      "14/14 [==============================] - 2s 90ms/step - loss: 0.0594 - accuracy: 0.9859\n",
      "[0.05944773927330971, 0.98591548204422]\n"
     ]
    },
    {
     "name": "stderr",
     "output_type": "stream",
     "text": [
      "WARNING:absl:Found untraced functions such as _jit_compiled_convolution_op, _jit_compiled_convolution_op, _jit_compiled_convolution_op while saving (showing 3 of 3). These functions will not be directly callable after loading.\n"
     ]
    },
    {
     "name": "stdout",
     "output_type": "stream",
     "text": [
      "INFO:tensorflow:Assets written to: C:\\Users\\USER\\AppData\\Local\\Temp\\tmpww90l9je\\assets\n"
     ]
    },
    {
     "name": "stderr",
     "output_type": "stream",
     "text": [
      "INFO:tensorflow:Assets written to: C:\\Users\\USER\\AppData\\Local\\Temp\\tmpww90l9je\\assets\n"
     ]
    }
   ],
   "source": [
    "from keras.preprocessing.image import ImageDataGenerator\n",
    "import tensorflow as tf\n",
    "\n",
    "data_dir = \"./malware_images/\"\n",
    "datagen = ImageDataGenerator(rescale=1./255, validation_split=0.2)\n",
    "train_it = datagen.flow_from_directory(\n",
    "    data_dir,\n",
    "    class_mode='categorical',\n",
    "    target_size=(100, 100),\n",
    "    batch_size=32\n",
    ")\n",
    "\n",
    "val_it = validation_generator = datagen.flow_from_directory(\n",
    "    data_dir,\n",
    "    target_size=(100, 100),\n",
    "    batch_size=32,\n",
    "    subset='validation'\n",
    ")\n",
    "\n",
    "cnn_model = tf.keras.models.Sequential([\n",
    "    tf.keras.layers.Conv2D(32, (3,3), activation='relu', input_shape=(100,100,3)),\n",
    "    tf.keras.layers.MaxPooling2D((2,2)),\n",
    "    tf.keras.layers.Conv2D(64, (3,3), activation='relu'),\n",
    "    tf.keras.layers.MaxPooling2D((2,2)),\n",
    "    tf.keras.layers.Conv2D(64, (3,3), activation='relu'),\n",
    "    tf.keras.layers.Flatten(),\n",
    "    tf.keras.layers.Dense(64, activation='relu'),\n",
    "    tf.keras.layers.Dense(9, activation='softmax')])\n",
    "\n",
    "cnn_model.compile(optimizer='adam', loss = 'categorical_crossentropy', metrics=['accuracy'])\n",
    "\n",
    "cnn_model.fit(train_it, epochs=10)\n",
    "test_eval_result = cnn_model.evaluate(val_it)\n",
    "print(test_eval_result)\n",
    "\n",
    "converter = tf.lite.TFLiteConverter.from_keras_model(cnn_model)\n",
    "tflite_model = converter.convert()\n",
    "\n",
    "with open('./keras_model_cnn_malware.tflite', 'wb') as f:\n",
    "    f.write(tflite_model)"
   ]
  }
 ],
 "metadata": {
  "kernelspec": {
   "display_name": "[Tensorflow2.x]",
   "language": "python",
   "name": "tf2"
  },
  "language_info": {
   "codemirror_mode": {
    "name": "ipython",
    "version": 3
   },
   "file_extension": ".py",
   "mimetype": "text/x-python",
   "name": "python",
   "nbconvert_exporter": "python",
   "pygments_lexer": "ipython3",
   "version": "3.8.13"
  },
  "orig_nbformat": 4
 },
 "nbformat": 4,
 "nbformat_minor": 2
}
